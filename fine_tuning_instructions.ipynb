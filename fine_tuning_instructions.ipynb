{
  "cells": [
    {
      "cell_type": "code",
      "execution_count": 1,
      "metadata": {
        "colab": {
          "base_uri": "https://localhost:8080/"
        },
        "id": "92FZ0NS_-anR",
        "outputId": "8ba4355c-ec6a-43cc-caa8-324b0c60994a"
      },
      "outputs": [
        {
          "name": "stdout",
          "output_type": "stream",
          "text": [
            "Collecting tiktoken==0.7.0\n",
            "  Downloading tiktoken-0.7.0-cp311-cp311-manylinux_2_17_x86_64.manylinux2014_x86_64.whl.metadata (6.6 kB)\n",
            "Requirement already satisfied: regex>=2022.1.18 in /usr/local/lib/python3.11/dist-packages (from tiktoken==0.7.0) (2024.11.6)\n",
            "Requirement already satisfied: requests>=2.26.0 in /usr/local/lib/python3.11/dist-packages (from tiktoken==0.7.0) (2.32.3)\n",
            "Requirement already satisfied: charset-normalizer<4,>=2 in /usr/local/lib/python3.11/dist-packages (from requests>=2.26.0->tiktoken==0.7.0) (3.4.1)\n",
            "Requirement already satisfied: idna<4,>=2.5 in /usr/local/lib/python3.11/dist-packages (from requests>=2.26.0->tiktoken==0.7.0) (3.10)\n",
            "Requirement already satisfied: urllib3<3,>=1.21.1 in /usr/local/lib/python3.11/dist-packages (from requests>=2.26.0->tiktoken==0.7.0) (2.3.0)\n",
            "Requirement already satisfied: certifi>=2017.4.17 in /usr/local/lib/python3.11/dist-packages (from requests>=2.26.0->tiktoken==0.7.0) (2025.1.31)\n",
            "Downloading tiktoken-0.7.0-cp311-cp311-manylinux_2_17_x86_64.manylinux2014_x86_64.whl (1.1 MB)\n",
            "\u001b[?25l   \u001b[90m━━━━━━━━━━━━━━━━━━━━━━━━━━━━━━━━━━━━━━━━\u001b[0m \u001b[32m0.0/1.1 MB\u001b[0m \u001b[31m?\u001b[0m eta \u001b[36m-:--:--\u001b[0m\r\u001b[2K   \u001b[90m━━━━━━━━━━━━━━━━━━━━━━━━━━━━━━━━━━━━━━━━\u001b[0m \u001b[32m1.1/1.1 MB\u001b[0m \u001b[31m52.5 MB/s\u001b[0m eta \u001b[36m0:00:00\u001b[0m\n",
            "\u001b[?25hInstalling collected packages: tiktoken\n",
            "Successfully installed tiktoken-0.7.0\n"
          ]
        }
      ],
      "source": [
        "!pip install tiktoken==0.7.0"
      ]
    },
    {
      "cell_type": "code",
      "execution_count": 2,
      "metadata": {
        "id": "9d8b5j9nHj_z"
      },
      "outputs": [],
      "source": [
        "import os\n",
        "os.chdir(\"/content/drive/MyDrive/Fine-Tuining-Instructions\")"
      ]
    },
    {
      "cell_type": "code",
      "execution_count": null,
      "metadata": {
        "id": "3-1ktqZEH0x8"
      },
      "outputs": [],
      "source": [
        "import tiktoken\n",
        "import pandas as pd\n",
        "import torch\n",
        "import os\n",
        "from tqdm import tqdm\n",
        "from torch.utils.data import Dataset\n",
        "from torch.utils.data import DataLoader\n",
        "from model import GPTModel\n",
        "from utilities import generate, text_to_ids, ids_to_text\n",
        "from load_gpt2_small_weights import download_and_save, get_new_config, load_weights_into_gpt\n",
        "import json\n",
        "import urllib"
      ]
    },
    {
      "cell_type": "code",
      "execution_count": 5,
      "metadata": {
        "id": "WVf5O9otH03E"
      },
      "outputs": [],
      "source": [
        "def download_and_load_file(file_path, url):\n",
        "    if not os.path.exists(file_path):\n",
        "        with urllib.request.urlopen(url) as response:\n",
        "            text_data = response.read().decode(\"utf-8\")\n",
        "        with open(file_path, \"w\", encoding=\"utf-8\") as file:\n",
        "            file.write(text_data)\n",
        "    else:\n",
        "        with open(file_path, \"r\", encoding=\"utf-8\") as file:\n",
        "            text_data = file.read()\n",
        "        with open(file_path, \"r\") as file:\n",
        "            data = json.load(file)\n",
        "    return data"
      ]
    },
    {
      "cell_type": "code",
      "execution_count": 6,
      "metadata": {
        "colab": {
          "base_uri": "https://localhost:8080/"
        },
        "id": "yLpi0CVeH05k",
        "outputId": "16569458-5083-4b83-e29b-b37fcf8214d5"
      },
      "outputs": [
        {
          "name": "stdout",
          "output_type": "stream",
          "text": [
            "Number of entries: 1100\n"
          ]
        }
      ],
      "source": [
        "file_path = \"instruction-data.json\"\n",
        "url = (\n",
        "    \"https://raw.githubusercontent.com/rasbt/LLMs-from-scratch\"\n",
        "    \"/main/ch07/01_main-chapter-code/instruction-data.json\"\n",
        "    )\n",
        "data = download_and_load_file(file_path, url)\n",
        "print(\"Number of entries:\", len(data))"
      ]
    },
    {
      "cell_type": "code",
      "execution_count": 7,
      "metadata": {
        "colab": {
          "base_uri": "https://localhost:8080/"
        },
        "id": "E0FyU0rCH08A",
        "outputId": "2514f2ec-83eb-43be-a6c2-d4e90292edcc"
      },
      "outputs": [
        {
          "name": "stdout",
          "output_type": "stream",
          "text": [
            "Example entry:\n",
            " {'instruction': 'Identify the correct spelling of the following word.', 'input': 'Ocassion', 'output': \"The correct spelling is 'Occasion.'\"}\n"
          ]
        }
      ],
      "source": [
        "print(\"Example entry:\\n\", data[50])"
      ]
    },
    {
      "cell_type": "code",
      "execution_count": 8,
      "metadata": {
        "colab": {
          "base_uri": "https://localhost:8080/"
        },
        "id": "0_5ZyzapH0-k",
        "outputId": "63b69d3d-5971-4a97-fbba-82ce2f99acec"
      },
      "outputs": [
        {
          "name": "stdout",
          "output_type": "stream",
          "text": [
            "Another example entry:\n",
            " {'instruction': \"What is an antonym of 'complicated'?\", 'input': '', 'output': \"An antonym of 'complicated' is 'simple'.\"}\n"
          ]
        }
      ],
      "source": [
        "print(\"Another example entry:\\n\", data[999])"
      ]
    },
    {
      "cell_type": "code",
      "execution_count": 9,
      "metadata": {
        "id": "_ItBU-usH1BM"
      },
      "outputs": [],
      "source": [
        "def format_input(entry):\n",
        "    instruction_text = (\n",
        "        f\"Below is an instruction that describes a task. \"\n",
        "        f\"Write a response that appropriately completes the request.\"\n",
        "        f\"\\n\\n### Instruction:\\n{entry['instruction']}\"\n",
        "    )\n",
        "    input_text = (\n",
        "        f\"\\n\\n### Input:\\n{entry['input']}\" if entry['input'] else \"\"\n",
        "    )\n",
        "    return instruction_text + input_text"
      ]
    },
    {
      "cell_type": "code",
      "execution_count": 10,
      "metadata": {
        "colab": {
          "base_uri": "https://localhost:8080/"
        },
        "id": "gqRTpZVEH1Dm",
        "outputId": "b8402946-3b3f-4cf1-d5eb-113e1b4d0f2d"
      },
      "outputs": [
        {
          "name": "stdout",
          "output_type": "stream",
          "text": [
            "Below is an instruction that describes a task. Write a response that appropriately completes the request.\n",
            "\n",
            "### Instruction:\n",
            "Identify the correct spelling of the following word.\n",
            "\n",
            "### Input:\n",
            "Ocassion\n",
            "\n",
            "### Response:\n",
            "The correct spelling is 'Occasion.'\n"
          ]
        }
      ],
      "source": [
        "model_input = format_input(data[50])\n",
        "model_output = f\"\\n\\n### Response:\\n{data[50]['output']}\"\n",
        "\n",
        "print(model_input + model_output)"
      ]
    },
    {
      "cell_type": "code",
      "execution_count": 11,
      "metadata": {
        "colab": {
          "base_uri": "https://localhost:8080/"
        },
        "id": "iY5m0YF3H1Gc",
        "outputId": "88d4a2c6-7898-4795-fa66-92d6cfd86cd7"
      },
      "outputs": [
        {
          "name": "stdout",
          "output_type": "stream",
          "text": [
            "Below is an instruction that describes a task. Write a response that appropriately completes the request.\n",
            "\n",
            "### Instruction:\n",
            "What is an antonym of 'complicated'?\n",
            "\n",
            "### Response:\n",
            "An antonym of 'complicated' is 'simple'.\n"
          ]
        }
      ],
      "source": [
        "model_input = format_input(data[999])\n",
        "model_output = f\"\\n\\n### Response:\\n{data[999]['output']}\"\n",
        "\n",
        "print(model_input + model_output)"
      ]
    },
    {
      "cell_type": "code",
      "execution_count": 12,
      "metadata": {
        "colab": {
          "base_uri": "https://localhost:8080/"
        },
        "id": "QsBa1AbwIKZH",
        "outputId": "4db2f956-d19e-4dc9-ed7e-74682526652e"
      },
      "outputs": [
        {
          "name": "stdout",
          "output_type": "stream",
          "text": [
            "Number of training examples: 935\n",
            "Number of test examples: 110\n",
            "Number of validation examples: 55\n"
          ]
        }
      ],
      "source": [
        "train_portion = int(len(data) * 0.85)\n",
        "test_portion = int(len(data) * 0.1)\n",
        "val_portion = len(data) - train_portion - test_portion\n",
        "\n",
        "train_data = data[:train_portion]\n",
        "test_data = data[train_portion:train_portion + test_portion]\n",
        "val_data = data[train_portion + test_portion:]\n",
        "\n",
        "print(\"Number of training examples:\", len(train_data))\n",
        "print(\"Number of test examples:\", len(test_data))\n",
        "print(\"Number of validation examples:\", len(val_data))"
      ]
    },
    {
      "cell_type": "code",
      "execution_count": 13,
      "metadata": {
        "colab": {
          "base_uri": "https://localhost:8080/"
        },
        "id": "fn813M2YIPEn",
        "outputId": "534bf864-afc6-4f6e-89bc-dddb1577d0ee"
      },
      "outputs": [
        {
          "name": "stdout",
          "output_type": "stream",
          "text": [
            "{'instruction': 'Evaluate the following phrase by transforming it into the spelling given.', 'input': 'freind --> friend', 'output': 'The spelling of the given phrase \"freind\" is incorrect, the correct spelling is \"friend\".'}\n",
            "{'instruction': 'Edit the following sentence for grammar.', 'input': 'He go to the park every day.', 'output': 'He goes to the park every day.'}\n",
            "{'instruction': 'Convert 45 kilometers to meters.', 'input': '', 'output': '45 kilometers is 45000 meters.'}\n",
            "{'instruction': \"Rewrite this sentence to start with 'Although': Despite the rain, they went for a walk.\", 'input': '', 'output': 'Although it was raining, they went for a walk.'}\n",
            "{'instruction': 'What are the first 10 square numbers?', 'input': '', 'output': '1, 4, 9, 16, 25, 36, 49, 64, 81, 100.'}\n"
          ]
        }
      ],
      "source": [
        "for entry in train_data[:5]:\n",
        "    print(entry)"
      ]
    },
    {
      "cell_type": "code",
      "execution_count": 14,
      "metadata": {
        "id": "jb70QDBmIQV0"
      },
      "outputs": [],
      "source": [
        "class InstructionDataset(Dataset):\n",
        "    def __init__(self, data, tokenizer):\n",
        "        self.data = data\n",
        "        self.encoded_texts = []\n",
        "        for entry in data:\n",
        "            instruction_input = format_input(entry)\n",
        "            response_output = f\"\\n\\n### Response:\\n{entry['output']}\"\n",
        "            full_text = instruction_input + response_output\n",
        "            self.encoded_texts.append(tokenizer.encode(full_text))\n",
        "\n",
        "    def __len__(self):\n",
        "        return len(self.data)\n",
        "\n",
        "    def __getitem__(self, idx):\n",
        "        return self.encoded_texts[idx]"
      ]
    },
    {
      "cell_type": "code",
      "execution_count": 15,
      "metadata": {
        "colab": {
          "base_uri": "https://localhost:8080/"
        },
        "id": "r-rMmLkCIRmn",
        "outputId": "8e25a349-e427-44f2-de81-bdc7c4b27893"
      },
      "outputs": [
        {
          "name": "stdout",
          "output_type": "stream",
          "text": [
            "[50256]\n"
          ]
        }
      ],
      "source": [
        "tokenizer = tiktoken.get_encoding(\"gpt2\")\n",
        "pad_token_id = tokenizer.encode(\"<|endoftext|>\", allowed_special={\"<|endoftext|>\"})\n",
        "print(pad_token_id)"
      ]
    },
    {
      "cell_type": "code",
      "execution_count": 16,
      "metadata": {
        "colab": {
          "base_uri": "https://localhost:8080/"
        },
        "id": "oA8kIK6tISsD",
        "outputId": "288a3b9f-7225-4de2-db42-ea21a55ff09f"
      },
      "outputs": [
        {
          "data": {
            "text/plain": [
              "{'instruction': 'Evaluate the following phrase by transforming it into the spelling given.',\n",
              " 'input': 'freind --> friend',\n",
              " 'output': 'The spelling of the given phrase \"freind\" is incorrect, the correct spelling is \"friend\".'}"
            ]
          },
          "execution_count": 16,
          "metadata": {},
          "output_type": "execute_result"
        }
      ],
      "source": [
        "train_data[0]"
      ]
    },
    {
      "cell_type": "code",
      "execution_count": 17,
      "metadata": {
        "colab": {
          "base_uri": "https://localhost:8080/"
        },
        "id": "I4RgN0JSIT5I",
        "outputId": "a3846078-51bd-4b24-a0a0-3a406a38b3f3"
      },
      "outputs": [
        {
          "name": "stdout",
          "output_type": "stream",
          "text": [
            "935\n",
            "[21106, 318, 281, 12064, 326, 8477, 257, 4876, 13, 19430, 257, 2882, 326, 20431, 32543, 262, 2581, 13, 198, 198, 21017, 46486, 25, 198, 36, 2100, 4985, 262, 1708, 9546, 416, 25449, 340, 656, 262, 24993, 1813, 13, 198, 198, 21017, 23412, 25, 198, 19503, 521, 14610, 1545, 198, 198, 21017, 18261, 25, 198, 464, 24993, 286, 262, 1813, 9546, 366, 19503, 521, 1, 318, 11491, 11, 262, 3376, 24993, 318, 366, 6726, 1911]\n",
            "Below is an instruction that describes a task. Write a response that appropriately completes the request.\n",
            "\n",
            "### Instruction:\n",
            "Evaluate the following phrase by transforming it into the spelling given.\n",
            "\n",
            "### Input:\n",
            "freind --> friend\n",
            "\n",
            "### Response:\n",
            "The spelling of the given phrase \"freind\" is incorrect, the correct spelling is \"friend\".\n"
          ]
        }
      ],
      "source": [
        "train_dataset = InstructionDataset(train_data, tokenizer)\n",
        "print(len(train_dataset))\n",
        "print(train_dataset[0])\n",
        "print(tokenizer.decode(train_dataset[0]))"
      ]
    },
    {
      "cell_type": "code",
      "execution_count": 18,
      "metadata": {
        "id": "Q0pt8TYcIVdF"
      },
      "outputs": [],
      "source": [
        "def custom_collate_fn(batch, pad_token_id, device=\"cpu\", ignore_index = -100, allowed_max_len = None):\n",
        "    max_len_of_batch = max(len(item) for item in batch)\n",
        "    input_lst, target_lst = [], []\n",
        "    for item in batch:\n",
        "        new_item = item.copy()\n",
        "        padded = (new_item + pad_token_id * (max_len_of_batch - len(new_item)))\n",
        "        inputs = torch.tensor(padded)\n",
        "        target = torch.tensor(padded[1:] + pad_token_id)\n",
        "        mask = target == pad_token_id[0]\n",
        "        indices = torch.nonzero(mask).squeeze()\n",
        "        if indices.numel() > 1:\n",
        "            target[indices[1:]] = ignore_index\n",
        "\n",
        "        if allowed_max_len is not None:\n",
        "            inputs = inputs[:allowed_max_len]\n",
        "            target = target[:allowed_max_len]\n",
        "\n",
        "        input_lst.append(inputs)\n",
        "        target_lst.append(target)\n",
        "    input_tensor = torch.stack(input_lst).to(device)\n",
        "    target_tensor = torch.stack(target_lst).to(device)\n",
        "    return input_tensor, target_tensor"
      ]
    },
    {
      "cell_type": "code",
      "execution_count": 19,
      "metadata": {
        "colab": {
          "base_uri": "https://localhost:8080/"
        },
        "id": "pH1s1xWFIXj0",
        "outputId": "45686e38-8446-4a00-d0f3-77e13f810c7c"
      },
      "outputs": [
        {
          "name": "stdout",
          "output_type": "stream",
          "text": [
            "Using device: cuda\n"
          ]
        }
      ],
      "source": [
        "device = \"cuda\" if torch.cuda.is_available() else \"cpu\"\n",
        "print(\"Using device:\", device)"
      ]
    },
    {
      "cell_type": "code",
      "execution_count": 20,
      "metadata": {
        "id": "rCpoYsn3IaeJ"
      },
      "outputs": [],
      "source": [
        "from functools import partial\n",
        "\n",
        "customized_collate_fn = partial(\n",
        "    custom_collate_fn,\n",
        "    device=device,\n",
        "    pad_token_id=pad_token_id,\n",
        "    ignore_index=-100,\n",
        "    allowed_max_len=1024\n",
        ")"
      ]
    },
    {
      "cell_type": "code",
      "execution_count": 21,
      "metadata": {
        "id": "7vCSAx7SIboE"
      },
      "outputs": [],
      "source": [
        "from torch.utils.data import DataLoader\n",
        "\n",
        "num_workers = 0\n",
        "batch_size = 8\n",
        "\n",
        "torch.manual_seed(123)\n",
        "train_dataset = InstructionDataset(train_data, tokenizer)\n",
        "val_dataset = InstructionDataset(val_data, tokenizer)\n",
        "test_dataset = InstructionDataset(test_data, tokenizer)\n",
        "\n",
        "train_dataloader = DataLoader(\n",
        "    train_dataset,\n",
        "    batch_size=batch_size,\n",
        "    shuffle=True,\n",
        "    drop_last=True,\n",
        "    num_workers=num_workers,\n",
        "    collate_fn=customized_collate_fn,\n",
        ")\n",
        "val_dataloader = DataLoader(\n",
        "    val_dataset,\n",
        "    batch_size=batch_size,\n",
        "    shuffle=False,\n",
        "    drop_last=False,\n",
        "    num_workers=num_workers,\n",
        "    collate_fn=customized_collate_fn,\n",
        ")\n",
        "\n",
        "test_dataloader = DataLoader(\n",
        "    test_dataset,\n",
        "    batch_size=batch_size,\n",
        "    shuffle=False,\n",
        "    drop_last=False,\n",
        "    num_workers=num_workers,\n",
        "    collate_fn=customized_collate_fn,\n",
        ")"
      ]
    },
    {
      "cell_type": "code",
      "execution_count": 22,
      "metadata": {
        "colab": {
          "base_uri": "https://localhost:8080/"
        },
        "id": "7L1wMpQbIdAa",
        "outputId": "4b64b4e6-a13b-4e7d-ae62-aba45eab375b"
      },
      "outputs": [
        {
          "name": "stdout",
          "output_type": "stream",
          "text": [
            "Batch 0\n",
            "Input tensor shape: torch.Size([8, 61])\n",
            "Target tensor shape: torch.Size([8, 61])\n",
            "Batch 1\n",
            "Input tensor shape: torch.Size([8, 76])\n",
            "Target tensor shape: torch.Size([8, 76])\n",
            "Batch 2\n",
            "Input tensor shape: torch.Size([8, 73])\n",
            "Target tensor shape: torch.Size([8, 73])\n",
            "Batch 3\n",
            "Input tensor shape: torch.Size([8, 68])\n",
            "Target tensor shape: torch.Size([8, 68])\n",
            "Batch 4\n",
            "Input tensor shape: torch.Size([8, 65])\n",
            "Target tensor shape: torch.Size([8, 65])\n",
            "Batch 5\n",
            "Input tensor shape: torch.Size([8, 72])\n",
            "Target tensor shape: torch.Size([8, 72])\n",
            "Batch 6\n",
            "Input tensor shape: torch.Size([8, 80])\n",
            "Target tensor shape: torch.Size([8, 80])\n",
            "Batch 7\n",
            "Input tensor shape: torch.Size([8, 67])\n",
            "Target tensor shape: torch.Size([8, 67])\n",
            "Batch 8\n",
            "Input tensor shape: torch.Size([8, 62])\n",
            "Target tensor shape: torch.Size([8, 62])\n",
            "Batch 9\n",
            "Input tensor shape: torch.Size([8, 75])\n",
            "Target tensor shape: torch.Size([8, 75])\n",
            "Batch 10\n",
            "Input tensor shape: torch.Size([8, 62])\n",
            "Target tensor shape: torch.Size([8, 62])\n",
            "Batch 11\n",
            "Input tensor shape: torch.Size([8, 68])\n",
            "Target tensor shape: torch.Size([8, 68])\n",
            "Batch 12\n",
            "Input tensor shape: torch.Size([8, 67])\n",
            "Target tensor shape: torch.Size([8, 67])\n",
            "Batch 13\n",
            "Input tensor shape: torch.Size([8, 77])\n",
            "Target tensor shape: torch.Size([8, 77])\n",
            "Batch 14\n",
            "Input tensor shape: torch.Size([8, 69])\n",
            "Target tensor shape: torch.Size([8, 69])\n",
            "Batch 15\n",
            "Input tensor shape: torch.Size([8, 79])\n",
            "Target tensor shape: torch.Size([8, 79])\n",
            "Batch 16\n",
            "Input tensor shape: torch.Size([8, 71])\n",
            "Target tensor shape: torch.Size([8, 71])\n",
            "Batch 17\n",
            "Input tensor shape: torch.Size([8, 66])\n",
            "Target tensor shape: torch.Size([8, 66])\n",
            "Batch 18\n",
            "Input tensor shape: torch.Size([8, 83])\n",
            "Target tensor shape: torch.Size([8, 83])\n",
            "Batch 19\n",
            "Input tensor shape: torch.Size([8, 68])\n",
            "Target tensor shape: torch.Size([8, 68])\n",
            "Batch 20\n",
            "Input tensor shape: torch.Size([8, 80])\n",
            "Target tensor shape: torch.Size([8, 80])\n",
            "Batch 21\n",
            "Input tensor shape: torch.Size([8, 71])\n",
            "Target tensor shape: torch.Size([8, 71])\n",
            "Batch 22\n",
            "Input tensor shape: torch.Size([8, 69])\n",
            "Target tensor shape: torch.Size([8, 69])\n",
            "Batch 23\n",
            "Input tensor shape: torch.Size([8, 65])\n",
            "Target tensor shape: torch.Size([8, 65])\n",
            "Batch 24\n",
            "Input tensor shape: torch.Size([8, 68])\n",
            "Target tensor shape: torch.Size([8, 68])\n",
            "Batch 25\n",
            "Input tensor shape: torch.Size([8, 60])\n",
            "Target tensor shape: torch.Size([8, 60])\n",
            "Batch 26\n",
            "Input tensor shape: torch.Size([8, 59])\n",
            "Target tensor shape: torch.Size([8, 59])\n",
            "Batch 27\n",
            "Input tensor shape: torch.Size([8, 69])\n",
            "Target tensor shape: torch.Size([8, 69])\n",
            "Batch 28\n",
            "Input tensor shape: torch.Size([8, 63])\n",
            "Target tensor shape: torch.Size([8, 63])\n",
            "Batch 29\n",
            "Input tensor shape: torch.Size([8, 65])\n",
            "Target tensor shape: torch.Size([8, 65])\n",
            "Batch 30\n",
            "Input tensor shape: torch.Size([8, 76])\n",
            "Target tensor shape: torch.Size([8, 76])\n",
            "Batch 31\n",
            "Input tensor shape: torch.Size([8, 66])\n",
            "Target tensor shape: torch.Size([8, 66])\n",
            "Batch 32\n",
            "Input tensor shape: torch.Size([8, 71])\n",
            "Target tensor shape: torch.Size([8, 71])\n",
            "Batch 33\n",
            "Input tensor shape: torch.Size([8, 91])\n",
            "Target tensor shape: torch.Size([8, 91])\n",
            "Batch 34\n",
            "Input tensor shape: torch.Size([8, 65])\n",
            "Target tensor shape: torch.Size([8, 65])\n",
            "Batch 35\n",
            "Input tensor shape: torch.Size([8, 64])\n",
            "Target tensor shape: torch.Size([8, 64])\n",
            "Batch 36\n",
            "Input tensor shape: torch.Size([8, 67])\n",
            "Target tensor shape: torch.Size([8, 67])\n",
            "Batch 37\n",
            "Input tensor shape: torch.Size([8, 66])\n",
            "Target tensor shape: torch.Size([8, 66])\n",
            "Batch 38\n",
            "Input tensor shape: torch.Size([8, 64])\n",
            "Target tensor shape: torch.Size([8, 64])\n",
            "Batch 39\n",
            "Input tensor shape: torch.Size([8, 65])\n",
            "Target tensor shape: torch.Size([8, 65])\n",
            "Batch 40\n",
            "Input tensor shape: torch.Size([8, 75])\n",
            "Target tensor shape: torch.Size([8, 75])\n",
            "Batch 41\n",
            "Input tensor shape: torch.Size([8, 89])\n",
            "Target tensor shape: torch.Size([8, 89])\n",
            "Batch 42\n",
            "Input tensor shape: torch.Size([8, 59])\n",
            "Target tensor shape: torch.Size([8, 59])\n",
            "Batch 43\n",
            "Input tensor shape: torch.Size([8, 88])\n",
            "Target tensor shape: torch.Size([8, 88])\n",
            "Batch 44\n",
            "Input tensor shape: torch.Size([8, 83])\n",
            "Target tensor shape: torch.Size([8, 83])\n",
            "Batch 45\n",
            "Input tensor shape: torch.Size([8, 83])\n",
            "Target tensor shape: torch.Size([8, 83])\n",
            "Batch 46\n",
            "Input tensor shape: torch.Size([8, 70])\n",
            "Target tensor shape: torch.Size([8, 70])\n",
            "Batch 47\n",
            "Input tensor shape: torch.Size([8, 65])\n",
            "Target tensor shape: torch.Size([8, 65])\n",
            "Batch 48\n",
            "Input tensor shape: torch.Size([8, 74])\n",
            "Target tensor shape: torch.Size([8, 74])\n",
            "Batch 49\n",
            "Input tensor shape: torch.Size([8, 76])\n",
            "Target tensor shape: torch.Size([8, 76])\n",
            "Batch 50\n",
            "Input tensor shape: torch.Size([8, 67])\n",
            "Target tensor shape: torch.Size([8, 67])\n",
            "Batch 51\n",
            "Input tensor shape: torch.Size([8, 75])\n",
            "Target tensor shape: torch.Size([8, 75])\n",
            "Batch 52\n",
            "Input tensor shape: torch.Size([8, 83])\n",
            "Target tensor shape: torch.Size([8, 83])\n",
            "Batch 53\n",
            "Input tensor shape: torch.Size([8, 69])\n",
            "Target tensor shape: torch.Size([8, 69])\n",
            "Batch 54\n",
            "Input tensor shape: torch.Size([8, 67])\n",
            "Target tensor shape: torch.Size([8, 67])\n",
            "Batch 55\n",
            "Input tensor shape: torch.Size([8, 60])\n",
            "Target tensor shape: torch.Size([8, 60])\n",
            "Batch 56\n",
            "Input tensor shape: torch.Size([8, 60])\n",
            "Target tensor shape: torch.Size([8, 60])\n",
            "Batch 57\n",
            "Input tensor shape: torch.Size([8, 66])\n",
            "Target tensor shape: torch.Size([8, 66])\n",
            "Batch 58\n",
            "Input tensor shape: torch.Size([8, 80])\n",
            "Target tensor shape: torch.Size([8, 80])\n",
            "Batch 59\n",
            "Input tensor shape: torch.Size([8, 71])\n",
            "Target tensor shape: torch.Size([8, 71])\n",
            "Batch 60\n",
            "Input tensor shape: torch.Size([8, 61])\n",
            "Target tensor shape: torch.Size([8, 61])\n",
            "Batch 61\n",
            "Input tensor shape: torch.Size([8, 58])\n",
            "Target tensor shape: torch.Size([8, 58])\n",
            "Batch 62\n",
            "Input tensor shape: torch.Size([8, 71])\n",
            "Target tensor shape: torch.Size([8, 71])\n",
            "Batch 63\n",
            "Input tensor shape: torch.Size([8, 67])\n",
            "Target tensor shape: torch.Size([8, 67])\n",
            "Batch 64\n",
            "Input tensor shape: torch.Size([8, 68])\n",
            "Target tensor shape: torch.Size([8, 68])\n",
            "Batch 65\n",
            "Input tensor shape: torch.Size([8, 63])\n",
            "Target tensor shape: torch.Size([8, 63])\n",
            "Batch 66\n",
            "Input tensor shape: torch.Size([8, 87])\n",
            "Target tensor shape: torch.Size([8, 87])\n",
            "Batch 67\n",
            "Input tensor shape: torch.Size([8, 68])\n",
            "Target tensor shape: torch.Size([8, 68])\n",
            "Batch 68\n",
            "Input tensor shape: torch.Size([8, 64])\n",
            "Target tensor shape: torch.Size([8, 64])\n",
            "Batch 69\n",
            "Input tensor shape: torch.Size([8, 68])\n",
            "Target tensor shape: torch.Size([8, 68])\n",
            "Batch 70\n",
            "Input tensor shape: torch.Size([8, 71])\n",
            "Target tensor shape: torch.Size([8, 71])\n",
            "Batch 71\n",
            "Input tensor shape: torch.Size([8, 68])\n",
            "Target tensor shape: torch.Size([8, 68])\n",
            "Batch 72\n",
            "Input tensor shape: torch.Size([8, 71])\n",
            "Target tensor shape: torch.Size([8, 71])\n",
            "Batch 73\n",
            "Input tensor shape: torch.Size([8, 61])\n",
            "Target tensor shape: torch.Size([8, 61])\n",
            "Batch 74\n",
            "Input tensor shape: torch.Size([8, 65])\n",
            "Target tensor shape: torch.Size([8, 65])\n",
            "Batch 75\n",
            "Input tensor shape: torch.Size([8, 67])\n",
            "Target tensor shape: torch.Size([8, 67])\n",
            "Batch 76\n",
            "Input tensor shape: torch.Size([8, 65])\n",
            "Target tensor shape: torch.Size([8, 65])\n",
            "Batch 77\n",
            "Input tensor shape: torch.Size([8, 64])\n",
            "Target tensor shape: torch.Size([8, 64])\n",
            "Batch 78\n",
            "Input tensor shape: torch.Size([8, 60])\n",
            "Target tensor shape: torch.Size([8, 60])\n",
            "Batch 79\n",
            "Input tensor shape: torch.Size([8, 72])\n",
            "Target tensor shape: torch.Size([8, 72])\n",
            "Batch 80\n",
            "Input tensor shape: torch.Size([8, 64])\n",
            "Target tensor shape: torch.Size([8, 64])\n",
            "Batch 81\n",
            "Input tensor shape: torch.Size([8, 70])\n",
            "Target tensor shape: torch.Size([8, 70])\n",
            "Batch 82\n",
            "Input tensor shape: torch.Size([8, 57])\n",
            "Target tensor shape: torch.Size([8, 57])\n",
            "Batch 83\n",
            "Input tensor shape: torch.Size([8, 72])\n",
            "Target tensor shape: torch.Size([8, 72])\n",
            "Batch 84\n",
            "Input tensor shape: torch.Size([8, 64])\n",
            "Target tensor shape: torch.Size([8, 64])\n",
            "Batch 85\n",
            "Input tensor shape: torch.Size([8, 68])\n",
            "Target tensor shape: torch.Size([8, 68])\n",
            "Batch 86\n",
            "Input tensor shape: torch.Size([8, 62])\n",
            "Target tensor shape: torch.Size([8, 62])\n",
            "Batch 87\n",
            "Input tensor shape: torch.Size([8, 74])\n",
            "Target tensor shape: torch.Size([8, 74])\n",
            "Batch 88\n",
            "Input tensor shape: torch.Size([8, 80])\n",
            "Target tensor shape: torch.Size([8, 80])\n",
            "Batch 89\n",
            "Input tensor shape: torch.Size([8, 68])\n",
            "Target tensor shape: torch.Size([8, 68])\n",
            "Batch 90\n",
            "Input tensor shape: torch.Size([8, 70])\n",
            "Target tensor shape: torch.Size([8, 70])\n",
            "Batch 91\n",
            "Input tensor shape: torch.Size([8, 91])\n",
            "Target tensor shape: torch.Size([8, 91])\n",
            "Batch 92\n",
            "Input tensor shape: torch.Size([8, 61])\n",
            "Target tensor shape: torch.Size([8, 61])\n",
            "Batch 93\n",
            "Input tensor shape: torch.Size([8, 66])\n",
            "Target tensor shape: torch.Size([8, 66])\n",
            "Batch 94\n",
            "Input tensor shape: torch.Size([8, 80])\n",
            "Target tensor shape: torch.Size([8, 80])\n",
            "Batch 95\n",
            "Input tensor shape: torch.Size([8, 81])\n",
            "Target tensor shape: torch.Size([8, 81])\n",
            "Batch 96\n",
            "Input tensor shape: torch.Size([8, 74])\n",
            "Target tensor shape: torch.Size([8, 74])\n",
            "Batch 97\n",
            "Input tensor shape: torch.Size([8, 82])\n",
            "Target tensor shape: torch.Size([8, 82])\n",
            "Batch 98\n",
            "Input tensor shape: torch.Size([8, 63])\n",
            "Target tensor shape: torch.Size([8, 63])\n",
            "Batch 99\n",
            "Input tensor shape: torch.Size([8, 83])\n",
            "Target tensor shape: torch.Size([8, 83])\n",
            "Batch 100\n",
            "Input tensor shape: torch.Size([8, 68])\n",
            "Target tensor shape: torch.Size([8, 68])\n",
            "Batch 101\n",
            "Input tensor shape: torch.Size([8, 67])\n",
            "Target tensor shape: torch.Size([8, 67])\n",
            "Batch 102\n",
            "Input tensor shape: torch.Size([8, 77])\n",
            "Target tensor shape: torch.Size([8, 77])\n",
            "Batch 103\n",
            "Input tensor shape: torch.Size([8, 91])\n",
            "Target tensor shape: torch.Size([8, 91])\n",
            "Batch 104\n",
            "Input tensor shape: torch.Size([8, 64])\n",
            "Target tensor shape: torch.Size([8, 64])\n",
            "Batch 105\n",
            "Input tensor shape: torch.Size([8, 61])\n",
            "Target tensor shape: torch.Size([8, 61])\n",
            "Batch 106\n",
            "Input tensor shape: torch.Size([8, 75])\n",
            "Target tensor shape: torch.Size([8, 75])\n",
            "Batch 107\n",
            "Input tensor shape: torch.Size([8, 64])\n",
            "Target tensor shape: torch.Size([8, 64])\n",
            "Batch 108\n",
            "Input tensor shape: torch.Size([8, 66])\n",
            "Target tensor shape: torch.Size([8, 66])\n",
            "Batch 109\n",
            "Input tensor shape: torch.Size([8, 78])\n",
            "Target tensor shape: torch.Size([8, 78])\n",
            "Batch 110\n",
            "Input tensor shape: torch.Size([8, 66])\n",
            "Target tensor shape: torch.Size([8, 66])\n",
            "Batch 111\n",
            "Input tensor shape: torch.Size([8, 64])\n",
            "Target tensor shape: torch.Size([8, 64])\n",
            "Batch 112\n",
            "Input tensor shape: torch.Size([8, 83])\n",
            "Target tensor shape: torch.Size([8, 83])\n",
            "Batch 113\n",
            "Input tensor shape: torch.Size([8, 66])\n",
            "Target tensor shape: torch.Size([8, 66])\n",
            "Batch 114\n",
            "Input tensor shape: torch.Size([8, 74])\n",
            "Target tensor shape: torch.Size([8, 74])\n",
            "Batch 115\n",
            "Input tensor shape: torch.Size([8, 69])\n",
            "Target tensor shape: torch.Size([8, 69])\n"
          ]
        }
      ],
      "source": [
        "for i, (input_tensor, target_tensor) in enumerate(train_dataloader):\n",
        "    print(\"Batch\", i)\n",
        "    print(\"Input tensor shape:\", input_tensor.shape)\n",
        "    print(\"Target tensor shape:\", target_tensor.shape)"
      ]
    },
    {
      "cell_type": "code",
      "execution_count": 23,
      "metadata": {
        "id": "Foiqzji5IeTV"
      },
      "outputs": [],
      "source": [
        "from gpt_download import download_and_load_gpt2\n",
        "from model import GPTModel\n",
        "from load_gpt2_small_weights import load_weights_into_gpt"
      ]
    },
    {
      "cell_type": "code",
      "execution_count": 24,
      "metadata": {
        "id": "NeQSrF8dIgHb"
      },
      "outputs": [],
      "source": [
        "BASE_CONFIG = {\n",
        " \"vocab_size\": 50257, # Vocabulary size\n",
        " \"context_length\": 1024, # Context length\n",
        " \"drop_rate\": 0.0, # Dropout rate\n",
        " \"qkv_bias\": True # Query-key-value bias\n",
        "}"
      ]
    },
    {
      "cell_type": "code",
      "execution_count": 25,
      "metadata": {
        "id": "R-RZiSwmIhR3"
      },
      "outputs": [],
      "source": [
        "model_configs = {\n",
        " \"gpt2-small (124M)\": {\"emb_dim\": 768, \"n_layers\": 12, \"n_heads\": 12},\n",
        " \"gpt2-medium (355M)\": {\"emb_dim\": 1024, \"n_layers\": 24, \"n_heads\": 16},\n",
        " \"gpt2-large (774M)\": {\"emb_dim\": 1280, \"n_layers\": 36, \"n_heads\": 20},\n",
        " \"gpt2-xl (1558M)\": {\"emb_dim\": 1600, \"n_layers\": 48, \"n_heads\": 25},\n",
        "}"
      ]
    },
    {
      "cell_type": "code",
      "execution_count": 26,
      "metadata": {
        "colab": {
          "base_uri": "https://localhost:8080/"
        },
        "id": "Iu2jaZkdIiXm",
        "outputId": "dfaeaa7a-b6a2-4516-dd83-a0c07e28948f"
      },
      "outputs": [
        {
          "name": "stdout",
          "output_type": "stream",
          "text": [
            "Model configuration: {'vocab_size': 50257, 'context_length': 1024, 'drop_rate': 0.0, 'qkv_bias': True, 'emb_dim': 1024, 'n_layers': 24, 'n_heads': 16}\n"
          ]
        }
      ],
      "source": [
        "CHOOSE_MODEL = \"gpt2-medium (355M)\"\n",
        "BASE_CONFIG.update(model_configs[CHOOSE_MODEL])\n",
        "print(\"Model configuration:\", BASE_CONFIG)"
      ]
    },
    {
      "cell_type": "code",
      "execution_count": 27,
      "metadata": {
        "colab": {
          "base_uri": "https://localhost:8080/"
        },
        "id": "T_pltmeDIjni",
        "outputId": "485842cd-e727-41f7-e705-71e0b79f3b3b"
      },
      "outputs": [
        {
          "name": "stdout",
          "output_type": "stream",
          "text": [
            "Model size: 355M\n"
          ]
        }
      ],
      "source": [
        "model_size = CHOOSE_MODEL.split(\" \")[-1].lstrip(\"(\").rstrip(\")\")\n",
        "print(\"Model size:\", model_size)"
      ]
    },
    {
      "cell_type": "code",
      "execution_count": 28,
      "metadata": {
        "colab": {
          "base_uri": "https://localhost:8080/"
        },
        "id": "-DivF4ttImCY",
        "outputId": "3cab0804-badd-49ff-e3ae-6aa14d94a9d6"
      },
      "outputs": [
        {
          "name": "stdout",
          "output_type": "stream",
          "text": [
            "File already exists and is up-to-date: gpt2/355M/checkpoint\n",
            "File already exists and is up-to-date: gpt2/355M/encoder.json\n",
            "File already exists and is up-to-date: gpt2/355M/hparams.json\n",
            "File already exists and is up-to-date: gpt2/355M/model.ckpt.data-00000-of-00001\n",
            "File already exists and is up-to-date: gpt2/355M/model.ckpt.index\n",
            "File already exists and is up-to-date: gpt2/355M/model.ckpt.meta\n",
            "File already exists and is up-to-date: gpt2/355M/vocab.bpe\n"
          ]
        }
      ],
      "source": [
        "settings, params = download_and_load_gpt2(\n",
        " model_size=model_size,\n",
        " models_dir=\"gpt2\"\n",
        ")\n",
        "device = torch.device(\"cuda\" if torch.cuda.is_available() else \"cpu\")"
      ]
    },
    {
      "cell_type": "code",
      "execution_count": 29,
      "metadata": {
        "colab": {
          "base_uri": "https://localhost:8080/"
        },
        "id": "jm8SEsqeJBSe",
        "outputId": "7822a943-c725-45c6-a1a9-7bd4e1692c45"
      },
      "outputs": [
        {
          "data": {
            "text/plain": [
              "GPTModel(\n",
              "  (token_embedding): Embedding(50257, 1024)\n",
              "  (position_embedding): Embedding(1024, 1024)\n",
              "  (drop_emb): Dropout(p=0.0, inplace=False)\n",
              "  (blocks): Sequential(\n",
              "    (0): TransformerBlock(\n",
              "      (attention): MultiHeadAttention(\n",
              "        (w_q): Linear(in_features=1024, out_features=1024, bias=True)\n",
              "        (w_k): Linear(in_features=1024, out_features=1024, bias=True)\n",
              "        (w_v): Linear(in_features=1024, out_features=1024, bias=True)\n",
              "        (w_o): Linear(in_features=1024, out_features=1024, bias=True)\n",
              "        (dropout): Dropout(p=0.0, inplace=False)\n",
              "      )\n",
              "      (ffn): FeedForward(\n",
              "        (layers): Sequential(\n",
              "          (0): Linear(in_features=1024, out_features=4096, bias=True)\n",
              "          (1): GELU()\n",
              "          (2): Linear(in_features=4096, out_features=1024, bias=True)\n",
              "        )\n",
              "      )\n",
              "      (norm1): LayerNorm()\n",
              "      (norm2): LayerNorm()\n",
              "      (drop_shortcut): Dropout(p=0.0, inplace=False)\n",
              "    )\n",
              "    (1): TransformerBlock(\n",
              "      (attention): MultiHeadAttention(\n",
              "        (w_q): Linear(in_features=1024, out_features=1024, bias=True)\n",
              "        (w_k): Linear(in_features=1024, out_features=1024, bias=True)\n",
              "        (w_v): Linear(in_features=1024, out_features=1024, bias=True)\n",
              "        (w_o): Linear(in_features=1024, out_features=1024, bias=True)\n",
              "        (dropout): Dropout(p=0.0, inplace=False)\n",
              "      )\n",
              "      (ffn): FeedForward(\n",
              "        (layers): Sequential(\n",
              "          (0): Linear(in_features=1024, out_features=4096, bias=True)\n",
              "          (1): GELU()\n",
              "          (2): Linear(in_features=4096, out_features=1024, bias=True)\n",
              "        )\n",
              "      )\n",
              "      (norm1): LayerNorm()\n",
              "      (norm2): LayerNorm()\n",
              "      (drop_shortcut): Dropout(p=0.0, inplace=False)\n",
              "    )\n",
              "    (2): TransformerBlock(\n",
              "      (attention): MultiHeadAttention(\n",
              "        (w_q): Linear(in_features=1024, out_features=1024, bias=True)\n",
              "        (w_k): Linear(in_features=1024, out_features=1024, bias=True)\n",
              "        (w_v): Linear(in_features=1024, out_features=1024, bias=True)\n",
              "        (w_o): Linear(in_features=1024, out_features=1024, bias=True)\n",
              "        (dropout): Dropout(p=0.0, inplace=False)\n",
              "      )\n",
              "      (ffn): FeedForward(\n",
              "        (layers): Sequential(\n",
              "          (0): Linear(in_features=1024, out_features=4096, bias=True)\n",
              "          (1): GELU()\n",
              "          (2): Linear(in_features=4096, out_features=1024, bias=True)\n",
              "        )\n",
              "      )\n",
              "      (norm1): LayerNorm()\n",
              "      (norm2): LayerNorm()\n",
              "      (drop_shortcut): Dropout(p=0.0, inplace=False)\n",
              "    )\n",
              "    (3): TransformerBlock(\n",
              "      (attention): MultiHeadAttention(\n",
              "        (w_q): Linear(in_features=1024, out_features=1024, bias=True)\n",
              "        (w_k): Linear(in_features=1024, out_features=1024, bias=True)\n",
              "        (w_v): Linear(in_features=1024, out_features=1024, bias=True)\n",
              "        (w_o): Linear(in_features=1024, out_features=1024, bias=True)\n",
              "        (dropout): Dropout(p=0.0, inplace=False)\n",
              "      )\n",
              "      (ffn): FeedForward(\n",
              "        (layers): Sequential(\n",
              "          (0): Linear(in_features=1024, out_features=4096, bias=True)\n",
              "          (1): GELU()\n",
              "          (2): Linear(in_features=4096, out_features=1024, bias=True)\n",
              "        )\n",
              "      )\n",
              "      (norm1): LayerNorm()\n",
              "      (norm2): LayerNorm()\n",
              "      (drop_shortcut): Dropout(p=0.0, inplace=False)\n",
              "    )\n",
              "    (4): TransformerBlock(\n",
              "      (attention): MultiHeadAttention(\n",
              "        (w_q): Linear(in_features=1024, out_features=1024, bias=True)\n",
              "        (w_k): Linear(in_features=1024, out_features=1024, bias=True)\n",
              "        (w_v): Linear(in_features=1024, out_features=1024, bias=True)\n",
              "        (w_o): Linear(in_features=1024, out_features=1024, bias=True)\n",
              "        (dropout): Dropout(p=0.0, inplace=False)\n",
              "      )\n",
              "      (ffn): FeedForward(\n",
              "        (layers): Sequential(\n",
              "          (0): Linear(in_features=1024, out_features=4096, bias=True)\n",
              "          (1): GELU()\n",
              "          (2): Linear(in_features=4096, out_features=1024, bias=True)\n",
              "        )\n",
              "      )\n",
              "      (norm1): LayerNorm()\n",
              "      (norm2): LayerNorm()\n",
              "      (drop_shortcut): Dropout(p=0.0, inplace=False)\n",
              "    )\n",
              "    (5): TransformerBlock(\n",
              "      (attention): MultiHeadAttention(\n",
              "        (w_q): Linear(in_features=1024, out_features=1024, bias=True)\n",
              "        (w_k): Linear(in_features=1024, out_features=1024, bias=True)\n",
              "        (w_v): Linear(in_features=1024, out_features=1024, bias=True)\n",
              "        (w_o): Linear(in_features=1024, out_features=1024, bias=True)\n",
              "        (dropout): Dropout(p=0.0, inplace=False)\n",
              "      )\n",
              "      (ffn): FeedForward(\n",
              "        (layers): Sequential(\n",
              "          (0): Linear(in_features=1024, out_features=4096, bias=True)\n",
              "          (1): GELU()\n",
              "          (2): Linear(in_features=4096, out_features=1024, bias=True)\n",
              "        )\n",
              "      )\n",
              "      (norm1): LayerNorm()\n",
              "      (norm2): LayerNorm()\n",
              "      (drop_shortcut): Dropout(p=0.0, inplace=False)\n",
              "    )\n",
              "    (6): TransformerBlock(\n",
              "      (attention): MultiHeadAttention(\n",
              "        (w_q): Linear(in_features=1024, out_features=1024, bias=True)\n",
              "        (w_k): Linear(in_features=1024, out_features=1024, bias=True)\n",
              "        (w_v): Linear(in_features=1024, out_features=1024, bias=True)\n",
              "        (w_o): Linear(in_features=1024, out_features=1024, bias=True)\n",
              "        (dropout): Dropout(p=0.0, inplace=False)\n",
              "      )\n",
              "      (ffn): FeedForward(\n",
              "        (layers): Sequential(\n",
              "          (0): Linear(in_features=1024, out_features=4096, bias=True)\n",
              "          (1): GELU()\n",
              "          (2): Linear(in_features=4096, out_features=1024, bias=True)\n",
              "        )\n",
              "      )\n",
              "      (norm1): LayerNorm()\n",
              "      (norm2): LayerNorm()\n",
              "      (drop_shortcut): Dropout(p=0.0, inplace=False)\n",
              "    )\n",
              "    (7): TransformerBlock(\n",
              "      (attention): MultiHeadAttention(\n",
              "        (w_q): Linear(in_features=1024, out_features=1024, bias=True)\n",
              "        (w_k): Linear(in_features=1024, out_features=1024, bias=True)\n",
              "        (w_v): Linear(in_features=1024, out_features=1024, bias=True)\n",
              "        (w_o): Linear(in_features=1024, out_features=1024, bias=True)\n",
              "        (dropout): Dropout(p=0.0, inplace=False)\n",
              "      )\n",
              "      (ffn): FeedForward(\n",
              "        (layers): Sequential(\n",
              "          (0): Linear(in_features=1024, out_features=4096, bias=True)\n",
              "          (1): GELU()\n",
              "          (2): Linear(in_features=4096, out_features=1024, bias=True)\n",
              "        )\n",
              "      )\n",
              "      (norm1): LayerNorm()\n",
              "      (norm2): LayerNorm()\n",
              "      (drop_shortcut): Dropout(p=0.0, inplace=False)\n",
              "    )\n",
              "    (8): TransformerBlock(\n",
              "      (attention): MultiHeadAttention(\n",
              "        (w_q): Linear(in_features=1024, out_features=1024, bias=True)\n",
              "        (w_k): Linear(in_features=1024, out_features=1024, bias=True)\n",
              "        (w_v): Linear(in_features=1024, out_features=1024, bias=True)\n",
              "        (w_o): Linear(in_features=1024, out_features=1024, bias=True)\n",
              "        (dropout): Dropout(p=0.0, inplace=False)\n",
              "      )\n",
              "      (ffn): FeedForward(\n",
              "        (layers): Sequential(\n",
              "          (0): Linear(in_features=1024, out_features=4096, bias=True)\n",
              "          (1): GELU()\n",
              "          (2): Linear(in_features=4096, out_features=1024, bias=True)\n",
              "        )\n",
              "      )\n",
              "      (norm1): LayerNorm()\n",
              "      (norm2): LayerNorm()\n",
              "      (drop_shortcut): Dropout(p=0.0, inplace=False)\n",
              "    )\n",
              "    (9): TransformerBlock(\n",
              "      (attention): MultiHeadAttention(\n",
              "        (w_q): Linear(in_features=1024, out_features=1024, bias=True)\n",
              "        (w_k): Linear(in_features=1024, out_features=1024, bias=True)\n",
              "        (w_v): Linear(in_features=1024, out_features=1024, bias=True)\n",
              "        (w_o): Linear(in_features=1024, out_features=1024, bias=True)\n",
              "        (dropout): Dropout(p=0.0, inplace=False)\n",
              "      )\n",
              "      (ffn): FeedForward(\n",
              "        (layers): Sequential(\n",
              "          (0): Linear(in_features=1024, out_features=4096, bias=True)\n",
              "          (1): GELU()\n",
              "          (2): Linear(in_features=4096, out_features=1024, bias=True)\n",
              "        )\n",
              "      )\n",
              "      (norm1): LayerNorm()\n",
              "      (norm2): LayerNorm()\n",
              "      (drop_shortcut): Dropout(p=0.0, inplace=False)\n",
              "    )\n",
              "    (10): TransformerBlock(\n",
              "      (attention): MultiHeadAttention(\n",
              "        (w_q): Linear(in_features=1024, out_features=1024, bias=True)\n",
              "        (w_k): Linear(in_features=1024, out_features=1024, bias=True)\n",
              "        (w_v): Linear(in_features=1024, out_features=1024, bias=True)\n",
              "        (w_o): Linear(in_features=1024, out_features=1024, bias=True)\n",
              "        (dropout): Dropout(p=0.0, inplace=False)\n",
              "      )\n",
              "      (ffn): FeedForward(\n",
              "        (layers): Sequential(\n",
              "          (0): Linear(in_features=1024, out_features=4096, bias=True)\n",
              "          (1): GELU()\n",
              "          (2): Linear(in_features=4096, out_features=1024, bias=True)\n",
              "        )\n",
              "      )\n",
              "      (norm1): LayerNorm()\n",
              "      (norm2): LayerNorm()\n",
              "      (drop_shortcut): Dropout(p=0.0, inplace=False)\n",
              "    )\n",
              "    (11): TransformerBlock(\n",
              "      (attention): MultiHeadAttention(\n",
              "        (w_q): Linear(in_features=1024, out_features=1024, bias=True)\n",
              "        (w_k): Linear(in_features=1024, out_features=1024, bias=True)\n",
              "        (w_v): Linear(in_features=1024, out_features=1024, bias=True)\n",
              "        (w_o): Linear(in_features=1024, out_features=1024, bias=True)\n",
              "        (dropout): Dropout(p=0.0, inplace=False)\n",
              "      )\n",
              "      (ffn): FeedForward(\n",
              "        (layers): Sequential(\n",
              "          (0): Linear(in_features=1024, out_features=4096, bias=True)\n",
              "          (1): GELU()\n",
              "          (2): Linear(in_features=4096, out_features=1024, bias=True)\n",
              "        )\n",
              "      )\n",
              "      (norm1): LayerNorm()\n",
              "      (norm2): LayerNorm()\n",
              "      (drop_shortcut): Dropout(p=0.0, inplace=False)\n",
              "    )\n",
              "    (12): TransformerBlock(\n",
              "      (attention): MultiHeadAttention(\n",
              "        (w_q): Linear(in_features=1024, out_features=1024, bias=True)\n",
              "        (w_k): Linear(in_features=1024, out_features=1024, bias=True)\n",
              "        (w_v): Linear(in_features=1024, out_features=1024, bias=True)\n",
              "        (w_o): Linear(in_features=1024, out_features=1024, bias=True)\n",
              "        (dropout): Dropout(p=0.0, inplace=False)\n",
              "      )\n",
              "      (ffn): FeedForward(\n",
              "        (layers): Sequential(\n",
              "          (0): Linear(in_features=1024, out_features=4096, bias=True)\n",
              "          (1): GELU()\n",
              "          (2): Linear(in_features=4096, out_features=1024, bias=True)\n",
              "        )\n",
              "      )\n",
              "      (norm1): LayerNorm()\n",
              "      (norm2): LayerNorm()\n",
              "      (drop_shortcut): Dropout(p=0.0, inplace=False)\n",
              "    )\n",
              "    (13): TransformerBlock(\n",
              "      (attention): MultiHeadAttention(\n",
              "        (w_q): Linear(in_features=1024, out_features=1024, bias=True)\n",
              "        (w_k): Linear(in_features=1024, out_features=1024, bias=True)\n",
              "        (w_v): Linear(in_features=1024, out_features=1024, bias=True)\n",
              "        (w_o): Linear(in_features=1024, out_features=1024, bias=True)\n",
              "        (dropout): Dropout(p=0.0, inplace=False)\n",
              "      )\n",
              "      (ffn): FeedForward(\n",
              "        (layers): Sequential(\n",
              "          (0): Linear(in_features=1024, out_features=4096, bias=True)\n",
              "          (1): GELU()\n",
              "          (2): Linear(in_features=4096, out_features=1024, bias=True)\n",
              "        )\n",
              "      )\n",
              "      (norm1): LayerNorm()\n",
              "      (norm2): LayerNorm()\n",
              "      (drop_shortcut): Dropout(p=0.0, inplace=False)\n",
              "    )\n",
              "    (14): TransformerBlock(\n",
              "      (attention): MultiHeadAttention(\n",
              "        (w_q): Linear(in_features=1024, out_features=1024, bias=True)\n",
              "        (w_k): Linear(in_features=1024, out_features=1024, bias=True)\n",
              "        (w_v): Linear(in_features=1024, out_features=1024, bias=True)\n",
              "        (w_o): Linear(in_features=1024, out_features=1024, bias=True)\n",
              "        (dropout): Dropout(p=0.0, inplace=False)\n",
              "      )\n",
              "      (ffn): FeedForward(\n",
              "        (layers): Sequential(\n",
              "          (0): Linear(in_features=1024, out_features=4096, bias=True)\n",
              "          (1): GELU()\n",
              "          (2): Linear(in_features=4096, out_features=1024, bias=True)\n",
              "        )\n",
              "      )\n",
              "      (norm1): LayerNorm()\n",
              "      (norm2): LayerNorm()\n",
              "      (drop_shortcut): Dropout(p=0.0, inplace=False)\n",
              "    )\n",
              "    (15): TransformerBlock(\n",
              "      (attention): MultiHeadAttention(\n",
              "        (w_q): Linear(in_features=1024, out_features=1024, bias=True)\n",
              "        (w_k): Linear(in_features=1024, out_features=1024, bias=True)\n",
              "        (w_v): Linear(in_features=1024, out_features=1024, bias=True)\n",
              "        (w_o): Linear(in_features=1024, out_features=1024, bias=True)\n",
              "        (dropout): Dropout(p=0.0, inplace=False)\n",
              "      )\n",
              "      (ffn): FeedForward(\n",
              "        (layers): Sequential(\n",
              "          (0): Linear(in_features=1024, out_features=4096, bias=True)\n",
              "          (1): GELU()\n",
              "          (2): Linear(in_features=4096, out_features=1024, bias=True)\n",
              "        )\n",
              "      )\n",
              "      (norm1): LayerNorm()\n",
              "      (norm2): LayerNorm()\n",
              "      (drop_shortcut): Dropout(p=0.0, inplace=False)\n",
              "    )\n",
              "    (16): TransformerBlock(\n",
              "      (attention): MultiHeadAttention(\n",
              "        (w_q): Linear(in_features=1024, out_features=1024, bias=True)\n",
              "        (w_k): Linear(in_features=1024, out_features=1024, bias=True)\n",
              "        (w_v): Linear(in_features=1024, out_features=1024, bias=True)\n",
              "        (w_o): Linear(in_features=1024, out_features=1024, bias=True)\n",
              "        (dropout): Dropout(p=0.0, inplace=False)\n",
              "      )\n",
              "      (ffn): FeedForward(\n",
              "        (layers): Sequential(\n",
              "          (0): Linear(in_features=1024, out_features=4096, bias=True)\n",
              "          (1): GELU()\n",
              "          (2): Linear(in_features=4096, out_features=1024, bias=True)\n",
              "        )\n",
              "      )\n",
              "      (norm1): LayerNorm()\n",
              "      (norm2): LayerNorm()\n",
              "      (drop_shortcut): Dropout(p=0.0, inplace=False)\n",
              "    )\n",
              "    (17): TransformerBlock(\n",
              "      (attention): MultiHeadAttention(\n",
              "        (w_q): Linear(in_features=1024, out_features=1024, bias=True)\n",
              "        (w_k): Linear(in_features=1024, out_features=1024, bias=True)\n",
              "        (w_v): Linear(in_features=1024, out_features=1024, bias=True)\n",
              "        (w_o): Linear(in_features=1024, out_features=1024, bias=True)\n",
              "        (dropout): Dropout(p=0.0, inplace=False)\n",
              "      )\n",
              "      (ffn): FeedForward(\n",
              "        (layers): Sequential(\n",
              "          (0): Linear(in_features=1024, out_features=4096, bias=True)\n",
              "          (1): GELU()\n",
              "          (2): Linear(in_features=4096, out_features=1024, bias=True)\n",
              "        )\n",
              "      )\n",
              "      (norm1): LayerNorm()\n",
              "      (norm2): LayerNorm()\n",
              "      (drop_shortcut): Dropout(p=0.0, inplace=False)\n",
              "    )\n",
              "    (18): TransformerBlock(\n",
              "      (attention): MultiHeadAttention(\n",
              "        (w_q): Linear(in_features=1024, out_features=1024, bias=True)\n",
              "        (w_k): Linear(in_features=1024, out_features=1024, bias=True)\n",
              "        (w_v): Linear(in_features=1024, out_features=1024, bias=True)\n",
              "        (w_o): Linear(in_features=1024, out_features=1024, bias=True)\n",
              "        (dropout): Dropout(p=0.0, inplace=False)\n",
              "      )\n",
              "      (ffn): FeedForward(\n",
              "        (layers): Sequential(\n",
              "          (0): Linear(in_features=1024, out_features=4096, bias=True)\n",
              "          (1): GELU()\n",
              "          (2): Linear(in_features=4096, out_features=1024, bias=True)\n",
              "        )\n",
              "      )\n",
              "      (norm1): LayerNorm()\n",
              "      (norm2): LayerNorm()\n",
              "      (drop_shortcut): Dropout(p=0.0, inplace=False)\n",
              "    )\n",
              "    (19): TransformerBlock(\n",
              "      (attention): MultiHeadAttention(\n",
              "        (w_q): Linear(in_features=1024, out_features=1024, bias=True)\n",
              "        (w_k): Linear(in_features=1024, out_features=1024, bias=True)\n",
              "        (w_v): Linear(in_features=1024, out_features=1024, bias=True)\n",
              "        (w_o): Linear(in_features=1024, out_features=1024, bias=True)\n",
              "        (dropout): Dropout(p=0.0, inplace=False)\n",
              "      )\n",
              "      (ffn): FeedForward(\n",
              "        (layers): Sequential(\n",
              "          (0): Linear(in_features=1024, out_features=4096, bias=True)\n",
              "          (1): GELU()\n",
              "          (2): Linear(in_features=4096, out_features=1024, bias=True)\n",
              "        )\n",
              "      )\n",
              "      (norm1): LayerNorm()\n",
              "      (norm2): LayerNorm()\n",
              "      (drop_shortcut): Dropout(p=0.0, inplace=False)\n",
              "    )\n",
              "    (20): TransformerBlock(\n",
              "      (attention): MultiHeadAttention(\n",
              "        (w_q): Linear(in_features=1024, out_features=1024, bias=True)\n",
              "        (w_k): Linear(in_features=1024, out_features=1024, bias=True)\n",
              "        (w_v): Linear(in_features=1024, out_features=1024, bias=True)\n",
              "        (w_o): Linear(in_features=1024, out_features=1024, bias=True)\n",
              "        (dropout): Dropout(p=0.0, inplace=False)\n",
              "      )\n",
              "      (ffn): FeedForward(\n",
              "        (layers): Sequential(\n",
              "          (0): Linear(in_features=1024, out_features=4096, bias=True)\n",
              "          (1): GELU()\n",
              "          (2): Linear(in_features=4096, out_features=1024, bias=True)\n",
              "        )\n",
              "      )\n",
              "      (norm1): LayerNorm()\n",
              "      (norm2): LayerNorm()\n",
              "      (drop_shortcut): Dropout(p=0.0, inplace=False)\n",
              "    )\n",
              "    (21): TransformerBlock(\n",
              "      (attention): MultiHeadAttention(\n",
              "        (w_q): Linear(in_features=1024, out_features=1024, bias=True)\n",
              "        (w_k): Linear(in_features=1024, out_features=1024, bias=True)\n",
              "        (w_v): Linear(in_features=1024, out_features=1024, bias=True)\n",
              "        (w_o): Linear(in_features=1024, out_features=1024, bias=True)\n",
              "        (dropout): Dropout(p=0.0, inplace=False)\n",
              "      )\n",
              "      (ffn): FeedForward(\n",
              "        (layers): Sequential(\n",
              "          (0): Linear(in_features=1024, out_features=4096, bias=True)\n",
              "          (1): GELU()\n",
              "          (2): Linear(in_features=4096, out_features=1024, bias=True)\n",
              "        )\n",
              "      )\n",
              "      (norm1): LayerNorm()\n",
              "      (norm2): LayerNorm()\n",
              "      (drop_shortcut): Dropout(p=0.0, inplace=False)\n",
              "    )\n",
              "    (22): TransformerBlock(\n",
              "      (attention): MultiHeadAttention(\n",
              "        (w_q): Linear(in_features=1024, out_features=1024, bias=True)\n",
              "        (w_k): Linear(in_features=1024, out_features=1024, bias=True)\n",
              "        (w_v): Linear(in_features=1024, out_features=1024, bias=True)\n",
              "        (w_o): Linear(in_features=1024, out_features=1024, bias=True)\n",
              "        (dropout): Dropout(p=0.0, inplace=False)\n",
              "      )\n",
              "      (ffn): FeedForward(\n",
              "        (layers): Sequential(\n",
              "          (0): Linear(in_features=1024, out_features=4096, bias=True)\n",
              "          (1): GELU()\n",
              "          (2): Linear(in_features=4096, out_features=1024, bias=True)\n",
              "        )\n",
              "      )\n",
              "      (norm1): LayerNorm()\n",
              "      (norm2): LayerNorm()\n",
              "      (drop_shortcut): Dropout(p=0.0, inplace=False)\n",
              "    )\n",
              "    (23): TransformerBlock(\n",
              "      (attention): MultiHeadAttention(\n",
              "        (w_q): Linear(in_features=1024, out_features=1024, bias=True)\n",
              "        (w_k): Linear(in_features=1024, out_features=1024, bias=True)\n",
              "        (w_v): Linear(in_features=1024, out_features=1024, bias=True)\n",
              "        (w_o): Linear(in_features=1024, out_features=1024, bias=True)\n",
              "        (dropout): Dropout(p=0.0, inplace=False)\n",
              "      )\n",
              "      (ffn): FeedForward(\n",
              "        (layers): Sequential(\n",
              "          (0): Linear(in_features=1024, out_features=4096, bias=True)\n",
              "          (1): GELU()\n",
              "          (2): Linear(in_features=4096, out_features=1024, bias=True)\n",
              "        )\n",
              "      )\n",
              "      (norm1): LayerNorm()\n",
              "      (norm2): LayerNorm()\n",
              "      (drop_shortcut): Dropout(p=0.0, inplace=False)\n",
              "    )\n",
              "  )\n",
              "  (final_norm): LayerNorm()\n",
              "  (out_head): Linear(in_features=1024, out_features=50257, bias=False)\n",
              ")"
            ]
          },
          "execution_count": 29,
          "metadata": {},
          "output_type": "execute_result"
        }
      ],
      "source": [
        "model = GPTModel(BASE_CONFIG)\n",
        "load_weights_into_gpt(model, params)\n",
        "model.eval()"
      ]
    },
    {
      "cell_type": "code",
      "execution_count": 30,
      "metadata": {
        "colab": {
          "base_uri": "https://localhost:8080/"
        },
        "id": "NYqYdRY6JNmj",
        "outputId": "6aa12cb4-7ce4-44e1-e49b-1de8e6ea937b"
      },
      "outputs": [
        {
          "name": "stdout",
          "output_type": "stream",
          "text": [
            "Below is an instruction that describes a task. Write a response that appropriately completes the request.\n",
            "\n",
            "### Instruction:\n",
            "Convert the active sentence to passive: 'The chef cooks the meal every day.'\n"
          ]
        }
      ],
      "source": [
        "torch.manual_seed(123)\n",
        "input_text = format_input(val_data[0])\n",
        "print(input_text)"
      ]
    },
    {
      "cell_type": "code",
      "execution_count": 31,
      "metadata": {
        "id": "6u3RW0wLJNo5"
      },
      "outputs": [],
      "source": [
        "from utilities import generate, text_to_ids, ids_to_text\n",
        "token_ids = generate(\n",
        " model=model,\n",
        " idx=text_to_ids(input_text, tokenizer),\n",
        " max_new_tokens=35,\n",
        " context_size=BASE_CONFIG[\"context_length\"],\n",
        " eos_id=50256,\n",
        ")\n",
        "generated_text = ids_to_text(token_ids, tokenizer)"
      ]
    },
    {
      "cell_type": "code",
      "execution_count": 32,
      "metadata": {
        "colab": {
          "base_uri": "https://localhost:8080/"
        },
        "id": "chZosEmyJNrQ",
        "outputId": "f37d20c2-ef18-4ef9-e867-f6135656cace"
      },
      "outputs": [
        {
          "name": "stdout",
          "output_type": "stream",
          "text": [
            "Below is an instruction that describes a task. Write a response that appropriately completes the request.\n",
            "\n",
            "### Instruction:\n",
            "Convert the active sentence to passive: 'The chef cooks the meal every day.'\n",
            "\n",
            "### Response:\n",
            "\n",
            "The chef cooks the meal every day.\n",
            "\n",
            "### Instruction:\n",
            "\n",
            "Convert the active sentence to passive: 'The chef cooks the\n"
          ]
        }
      ],
      "source": [
        "print(generated_text)"
      ]
    },
    {
      "cell_type": "code",
      "execution_count": 33,
      "metadata": {
        "colab": {
          "base_uri": "https://localhost:8080/"
        },
        "id": "9xJAdidFJNtn",
        "outputId": "dc2d4caa-81f3-4e8c-ed82-b802bd6206d7"
      },
      "outputs": [
        {
          "name": "stdout",
          "output_type": "stream",
          "text": [
            "### Response:\n",
            "\n",
            "The chef cooks the meal every day.\n",
            "\n",
            "### Instruction:\n",
            "\n",
            "Convert the active sentence to passive: 'The chef cooks the\n"
          ]
        }
      ],
      "source": [
        "response_text = generated_text[len(input_text):].strip()\n",
        "print(response_text)"
      ]
    },
    {
      "cell_type": "code",
      "execution_count": 35,
      "metadata": {
        "id": "aQrWAEfFJTvB"
      },
      "outputs": [],
      "source": [
        "from utilities import calc_loss_loader\n",
        "from train import train_model_simple"
      ]
    },
    {
      "cell_type": "code",
      "execution_count": 37,
      "metadata": {
        "colab": {
          "base_uri": "https://localhost:8080/"
        },
        "id": "Z5R5eTWKJTxl",
        "outputId": "42c40a8f-e739-4128-c582-12a193300eb8"
      },
      "outputs": [
        {
          "name": "stdout",
          "output_type": "stream",
          "text": [
            "Training loss: 3.825909471511841\n",
            "Validation loss: 3.761934232711792\n"
          ]
        }
      ],
      "source": [
        "model.to(device)\n",
        "torch.manual_seed(123)\n",
        "with torch.no_grad():\n",
        "    train_loss = calc_loss_loader(train_dataloader, model, device, num_batches=5)\n",
        "    val_loss = calc_loss_loader(val_dataloader, model, device, num_batches=5)\n",
        "\n",
        "print(\"Training loss:\", train_loss)\n",
        "print(\"Validation loss:\", val_loss)"
      ]
    },
    {
      "cell_type": "code",
      "execution_count": null,
      "metadata": {
        "colab": {
          "base_uri": "https://localhost:8080/"
        },
        "id": "U2D_MNhTJT0I",
        "outputId": "1f9e20f4-713a-4fba-c880-a22d4fd337b4"
      },
      "outputs": [
        {
          "name": "stdout",
          "output_type": "stream",
          "text": [
            "Ep 1 (Step 000000): Train loss 2.637, Val loss 2.626\n",
            "Ep 1 (Step 000005): Train loss 1.174, Val loss 1.103\n",
            "Ep 1 (Step 000010): Train loss 0.872, Val loss 0.944\n",
            "Ep 1 (Step 000015): Train loss 0.857, Val loss 0.906\n",
            "Ep 1 (Step 000020): Train loss 0.776, Val loss 0.881\n",
            "Ep 1 (Step 000025): Train loss 0.754, Val loss 0.859\n",
            "Ep 1 (Step 000030): Train loss 0.799, Val loss 0.836\n",
            "Ep 1 (Step 000035): Train loss 0.714, Val loss 0.808\n",
            "Ep 1 (Step 000040): Train loss 0.672, Val loss 0.806\n",
            "Ep 1 (Step 000045): Train loss 0.633, Val loss 0.789\n",
            "Ep 1 (Step 000050): Train loss 0.663, Val loss 0.783\n",
            "Ep 1 (Step 000055): Train loss 0.760, Val loss 0.763\n",
            "Ep 1 (Step 000060): Train loss 0.719, Val loss 0.743\n",
            "Ep 1 (Step 000065): Train loss 0.653, Val loss 0.735\n",
            "Ep 1 (Step 000070): Train loss 0.533, Val loss 0.729\n",
            "Ep 1 (Step 000075): Train loss 0.568, Val loss 0.729\n",
            "Ep 1 (Step 000080): Train loss 0.604, Val loss 0.725\n",
            "Ep 1 (Step 000085): Train loss 0.509, Val loss 0.710\n",
            "Ep 1 (Step 000090): Train loss 0.563, Val loss 0.691\n",
            "Ep 1 (Step 000095): Train loss 0.502, Val loss 0.681\n",
            "Ep 1 (Step 000100): Train loss 0.504, Val loss 0.677\n",
            "Ep 1 (Step 000105): Train loss 0.565, Val loss 0.670\n",
            "Ep 1 (Step 000110): Train loss 0.554, Val loss 0.666\n",
            "Ep 1 (Step 000115): Train loss 0.508, Val loss 0.663\n",
            "Below is an instruction that describes a task. Write a response that appropriately completes the request.  ### Instruction: Convert the active sentence to passive: 'The chef cooks the meal every day.'  ### Response: The meals the chef prepares each day are cooked by his colleague.<|endoftext|>You have asked a question that contains redundant information. What is an antonym of 'solar?'<|endoftext|>The next step for the government should adopt\n",
            "Ep 2 (Step 000120): Train loss 0.435, Val loss 0.671\n",
            "Ep 2 (Step 000125): Train loss 0.451, Val loss 0.687\n",
            "Ep 2 (Step 000130): Train loss 0.447, Val loss 0.682\n",
            "Ep 2 (Step 000135): Train loss 0.405, Val loss 0.681\n",
            "Ep 2 (Step 000140): Train loss 0.410, Val loss 0.681\n",
            "Ep 2 (Step 000145): Train loss 0.369, Val loss 0.681\n",
            "Ep 2 (Step 000150): Train loss 0.382, Val loss 0.675\n",
            "Ep 2 (Step 000155): Train loss 0.414, Val loss 0.675\n",
            "Ep 2 (Step 000160): Train loss 0.412, Val loss 0.684\n",
            "Ep 2 (Step 000165): Train loss 0.379, Val loss 0.686\n",
            "Ep 2 (Step 000170): Train loss 0.322, Val loss 0.680\n",
            "Ep 2 (Step 000175): Train loss 0.338, Val loss 0.667\n",
            "Ep 2 (Step 000180): Train loss 0.392, Val loss 0.656\n",
            "Ep 2 (Step 000185): Train loss 0.415, Val loss 0.657\n",
            "Ep 2 (Step 000190): Train loss 0.340, Val loss 0.648\n",
            "Ep 2 (Step 000195): Train loss 0.328, Val loss 0.633\n",
            "Ep 2 (Step 000200): Train loss 0.309, Val loss 0.633\n",
            "Ep 2 (Step 000205): Train loss 0.353, Val loss 0.631\n",
            "Ep 2 (Step 000210): Train loss 0.364, Val loss 0.630\n",
            "Ep 2 (Step 000215): Train loss 0.394, Val loss 0.634\n",
            "Ep 2 (Step 000220): Train loss 0.297, Val loss 0.644\n",
            "Ep 2 (Step 000225): Train loss 0.342, Val loss 0.658\n",
            "Ep 2 (Step 000230): Train loss 0.294, Val loss 0.657\n",
            "Below is an instruction that describes a task. Write a response that appropriately completes the request.  ### Instruction: Convert the active sentence to passive: 'The chef cooks the meal every day.'  ### Response: It is the daily ritual of the restaurant.<|endoftext|>Please help improve this article's grammar. It can be helpful to have a more formal sentence.  You need help understanding this information.   \"You have no\n",
            "Training completed in 3.16 minutes.\n"
          ]
        }
      ],
      "source": [
        "import time\n",
        "start_time = time.time()\n",
        "torch.manual_seed(123)\n",
        "optimizer = torch.optim.AdamW(\n",
        " model.parameters(), lr=0.00005, weight_decay=0.1\n",
        ")\n",
        "num_epochs = 2\n",
        "train_losses, val_losses, tokens_seen = train_model_simple(\n",
        " model, train_dataloader, val_dataloader, optimizer, device,\n",
        " num_epochs=num_epochs, eval_freq=5, eval_iter=5,\n",
        " start_context=format_input(val_data[0]), tokenizer=tokenizer )\n",
        "end_time = time.time()\n",
        "execution_time_minutes = (end_time - start_time) / 60\n",
        "print(f\"Training completed in {execution_time_minutes:.2f} minutes.\")"
      ]
    },
    {
      "cell_type": "code",
      "execution_count": 39,
      "metadata": {
        "id": "qRC_lUolN_SZ"
      },
      "outputs": [],
      "source": [
        "import matplotlib.pyplot as plt\n",
        "def plot_values(\n",
        "    epochs_seen, examples_seen, train_values, val_values,\n",
        "    label=\"loss\"):\n",
        "    fig, ax1 = plt.subplots(figsize=(5, 3))\n",
        "\n",
        "    ax1.plot(epochs_seen, train_values, label=f\"Training {label}\")\n",
        "    ax1.plot(\n",
        "    epochs_seen, val_values, linestyle=\"-.\",\n",
        "    label=f\"Validation {label}\"\n",
        "    )\n",
        "    ax1.set_xlabel(\"Epochs\")\n",
        "    ax1.set_ylabel(label.capitalize())\n",
        "    ax1.legend()\n",
        "\n",
        "    ax2 = ax1.twiny()\n",
        "    ax2.plot(examples_seen, train_values, alpha=0)\n",
        "    ax2.set_xlabel(\"Examples seen\")\n",
        "    fig.tight_layout()\n",
        "    plt.savefig(f\"{label}-plot.pdf\")\n",
        "    plt.show()"
      ]
    },
    {
      "cell_type": "code",
      "execution_count": 42,
      "metadata": {
        "colab": {
          "base_uri": "https://localhost:8080/",
          "height": 307
        },
        "id": "YZgAR1z6N_Uz",
        "outputId": "7088f012-0188-454f-9166-9b04af7b147b"
      },
      "outputs": [
        {
          "data": {
            "image/png": "[encoded data removed]",
            "text/plain": [
              "<Figure size 500x300 with 2 Axes>"
            ]
          },
          "metadata": {},
          "output_type": "display_data"
        }
      ],
      "source": [
        "epochs_tensor = torch.linspace(0, num_epochs, len(train_losses))\n",
        "plot_values(epochs_tensor, tokens_seen, train_losses, val_losses)"
      ]
    },
    {
      "cell_type": "code",
      "execution_count": 43,
      "metadata": {
        "colab": {
          "base_uri": "https://localhost:8080/"
        },
        "id": "2In4jgtDN_Xb",
        "outputId": "b01bdeb9-8dd7-446b-fafe-1ad081eecd3a"
      },
      "outputs": [
        {
          "name": "stdout",
          "output_type": "stream",
          "text": [
            "Below is an instruction that describes a task. Write a response that appropriately completes the request.\n",
            "\n",
            "### Instruction:\n",
            "Rewrite the sentence using a simile.\n",
            "\n",
            "### Input:\n",
            "The car is very fast.\n",
            "\n",
            "Correct response:\n",
            ">> The car is as fast as lightning.\n",
            "\n",
            "Model response:\n",
            ">> The car is as fast as a bullet.\n",
            "-----------------------------\n",
            "Below is an instruction that describes a task. Write a response that appropriately completes the request.\n",
            "\n",
            "### Instruction:\n",
            "What type of cloud is typically associated with thunderstorms?\n",
            "\n",
            "Correct response:\n",
            ">> The type of cloud typically associated with thunderstorms is cumulonimbus.\n",
            "\n",
            "Model response:\n",
            ">> The type of cloud associated with thunderstorms is a cumulus cloud.\n",
            "-----------------------------\n",
            "Below is an instruction that describes a task. Write a response that appropriately completes the request.\n",
            "\n",
            "### Instruction:\n",
            "Name the author of 'Pride and Prejudice'.\n",
            "\n",
            "Correct response:\n",
            ">> Jane Austen.\n",
            "\n",
            "Model response:\n",
            ">> The author of 'Pride and Prejudice' is Jane Austen.\n",
            "-----------------------------\n"
          ]
        }
      ],
      "source": [
        "torch.manual_seed(123)\n",
        "for entry in test_data[:3]:\n",
        "    input_text = format_input(entry)\n",
        "    token_ids = generate(\n",
        "    model=model,\n",
        "    idx=text_to_ids(input_text, tokenizer).to(device),\n",
        "    max_new_tokens=256,\n",
        "    context_size=BASE_CONFIG[\"context_length\"],\n",
        "    eos_id=50256\n",
        "    )\n",
        "    generated_text = ids_to_text(token_ids, tokenizer)\n",
        "\n",
        "    response_text = (\n",
        "    generated_text[len(input_text):]\n",
        "    .replace(\"### Response:\", \"\")\n",
        "    .strip()\n",
        "    )\n",
        "    print(input_text)\n",
        "    print(f\"\\nCorrect response:\\n>> {entry['output']}\")\n",
        "    print(f\"\\nModel response:\\n>> {response_text.strip()}\")\n",
        "    print(\"-----------------------------\")"
      ]
    },
    {
      "cell_type": "code",
      "execution_count": 44,
      "metadata": {
        "colab": {
          "base_uri": "https://localhost:8080/"
        },
        "id": "TRNz9v9zN_Zx",
        "outputId": "2c731a33-6c9a-4ce7-c032-6360c811ea05"
      },
      "outputs": [
        {
          "name": "stderr",
          "output_type": "stream",
          "text": [
            "100%|██████████| 110/110 [01:16<00:00,  1.45it/s]\n"
          ]
        }
      ],
      "source": [
        "from tqdm import tqdm\n",
        "for i, entry in tqdm(enumerate(test_data), total=len(test_data)):\n",
        "    input_text = format_input(entry)\n",
        "    token_ids = generate(\n",
        "    model=model,\n",
        "    idx=text_to_ids(input_text, tokenizer).to(device),\n",
        "    max_new_tokens=256,\n",
        "    context_size=BASE_CONFIG[\"context_length\"],\n",
        "    eos_id=50256\n",
        "    )\n",
        "    generated_text = ids_to_text(token_ids, tokenizer)\n",
        "\n",
        "    response_text = (\n",
        "    generated_text[len(input_text):]\n",
        "    .replace(\"### Response:\", \"\")\n",
        "    .strip()\n",
        "    )\n",
        "    test_data[i][\"model_response\"] = response_text\n",
        "    with open(\"instruction-data-with-response.json\", \"w\") as file:\n",
        "        json.dump(test_data, file, indent=4)"
      ]
    },
    {
      "cell_type": "code",
      "execution_count": 45,
      "metadata": {
        "colab": {
          "base_uri": "https://localhost:8080/"
        },
        "id": "pF7jaKltOGAt",
        "outputId": "4951bcb2-7899-442f-b039-677e1bb2c668"
      },
      "outputs": [
        {
          "name": "stdout",
          "output_type": "stream",
          "text": [
            "{'instruction': 'Rewrite the sentence using a simile.', 'input': 'The car is very fast.', 'output': 'The car is as fast as lightning.', 'model_response': 'The car is as fast as a bullet.'}\n"
          ]
        }
      ],
      "source": [
        "print(test_data[0])"
      ]
    },
    {
      "cell_type": "code",
      "execution_count": 46,
      "metadata": {
        "colab": {
          "base_uri": "https://localhost:8080/"
        },
        "id": "XMctoqwKOIFH",
        "outputId": "dc2d5e30-06b1-4e2b-843a-59a6336b812b"
      },
      "outputs": [
        {
          "name": "stdout",
          "output_type": "stream",
          "text": [
            "Model saved as gpt2-medium355M-sft.pth\n"
          ]
        }
      ],
      "source": [
        "import re\n",
        "file_name = f\"{re.sub(r'[ ()]', '', CHOOSE_MODEL) }-sft.pth\"\n",
        "torch.save(model.state_dict(), file_name)\n",
        "print(f\"Model saved as {file_name}\")"
      ]
    },
    {
      "cell_type": "code",
      "execution_count": null,
      "metadata": {
        "id": "FCDduShLQg1y"
      },
      "outputs": [],
      "source": []
    }
  ],
  "metadata": {
    "accelerator": "GPU",
    "colab": {
      "gpuType": "T4",
      "provenance": []
    },
    "kernelspec": {
      "display_name": "Python 3",
      "name": "python3"
    },
    "language_info": {
      "name": "python"
    }
  },
  "nbformat": 4,
  "nbformat_minor": 0
}
